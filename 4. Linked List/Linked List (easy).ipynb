{
 "cells": [
  {
   "cell_type": "markdown",
   "id": "d9b6ea6f",
   "metadata": {},
   "source": [
    "## Q1. Middle of the linked list\n",
    "Given the head of a singly linked list, return the middle node of the linked list.\n",
    "If there are two middle nodes, return the second middle node.\n",
    "\n",
    "Input: head = [1,2,3,4,5,6]   \n",
    "Output: [4,5,6]   \n",
    "Explanation: Since the list has two middle nodes with values 3 and 4, we return the second one.\n"
   ]
  },
  {
   "cell_type": "code",
   "execution_count": null,
   "id": "340b9f44",
   "metadata": {},
   "outputs": [],
   "source": [
    "class ListNode:\n",
    "    def __init__(self, val=0, next=None):\n",
    "        self.val = val\n",
    "        self.next = next\n",
    "class Solution:\n",
    "    def middleNode(self, head: ListNode) -> ListNode:\n",
    "        fast=head\n",
    "        slow=head\n",
    "        while(fast and fast.next):\n",
    "            fast=fast.next.next\n",
    "            slow=slow.next\n",
    "            \n",
    "        return slow\n",
    "        "
   ]
  },
  {
   "cell_type": "markdown",
   "id": "81b214b7",
   "metadata": {},
   "source": [
    "## Q2. Reverse the linked list\n",
    "Given the head of a singly linked list, reverse the list, and return the reversed list."
   ]
  },
  {
   "cell_type": "code",
   "execution_count": null,
   "id": "452fbde0",
   "metadata": {},
   "outputs": [],
   "source": [
    "\n",
    "#Recursively\n",
    "def reverseList(self, head: ListNode) -> ListNode:    \n",
    "        def sub(head):\n",
    "            #base Case: 1->2->3-> for 3 next is None and hence it becomes new head\n",
    "            if head is None:\n",
    "                return None\n",
    "            if head.next is None:\n",
    "                return head\n",
    "            \n",
    "            #We need to keep track of new head\n",
    "            newHead = sub(head.next)\n",
    "            \n",
    "            #Reverse the link\n",
    "            head.next.next = head\n",
    "            head.next= None\n",
    "            \n",
    "            return newHead\n",
    "        \n",
    "        return sub(head)\n",
    "\n",
    "\n",
    "#Iterative ( 2 pointer)\n",
    "def reverseList(self, head: ListNode) -> ListNode:        \n",
    "    #using 2 pointer\n",
    "    curr,prev = head, None\n",
    "    while(curr):\n",
    "        nxt = curr.next\n",
    "        curr.next = prev\n",
    "        prev = curr\n",
    "        curr = nxt\n",
    "    return prev\n",
    "    "
   ]
  },
  {
   "cell_type": "markdown",
   "id": "7c3a4f83",
   "metadata": {},
   "source": [
    "## Q3. Merge Two Sorted Lists\n",
    "You are given the heads of two sorted linked lists list1 and list2.  \n",
    "Merge the two lists in a one sorted list. The list should be made by splicing together the nodes of the first two lists.  \n",
    "Return the head of the merged linked list.\n",
    "\n",
    "**Intuition** \n",
    "1. Make temp linkedList with head , and traverse it using t pointer.\n",
    "2. If value of l1 is less than l2 append l1.val to t and traverse t and l1.\n",
    "3. If value of l2 is less than l1 append l2.val to t and traverse t and l2.\n",
    "4. If any of them reach its end , append other list to t\n",
    "5. since head initially has 0 and all new values are appended after it, so return head.next"
   ]
  },
  {
   "cell_type": "code",
   "execution_count": null,
   "id": "2264ca81",
   "metadata": {},
   "outputs": [],
   "source": [
    "class ListNode:\n",
    "    def __init__(self, val=0, next=None):\n",
    "        self.val = val\n",
    "        self.next = next\n",
    "class Solution:\n",
    "    def mergeTwoLists(self, l1: ListNode, l2: ListNode) -> ListNode:\n",
    "        a=ListNode()\n",
    "        t=a\n",
    "        while(l1 and l2):\n",
    "            if l1.val < l2.val:\n",
    "                t.next = ListNode(l1.val)\n",
    "                l1 = l1.next\n",
    "            elif l1.val >= l2.val:\n",
    "                t.next = ListNode(l2.val)\n",
    "                l2 = l2.next\n",
    "            t = t.next\n",
    "        \n",
    "\n",
    "        if l1 is not None:\n",
    "            t.next=l1\n",
    "        if l2 is not None:\n",
    "            t.next=l2\n",
    "            \n",
    "        return a.next     "
   ]
  },
  {
   "cell_type": "markdown",
   "id": "b696bad1",
   "metadata": {},
   "source": [
    "## Q4. Remove Linked List Elements  \n",
    "Given the head of a linked list and an integer val, remove all the nodes of the linked list that has Node.val == val, and return the new head.\n",
    "\n",
    "1. Input: head = [1,2,6,3,4,5,6], val = 6\n",
    "   Output: [1,2,3,4,5]  \n",
    "2. Input: head = [7,7,7,7], val = 7\n",
    "   Output: []"
   ]
  },
  {
   "cell_type": "code",
   "execution_count": null,
   "id": "98550cfc",
   "metadata": {},
   "outputs": [],
   "source": [
    "class ListNode:\n",
    "    def __init__(self, val=0, next=None):\n",
    "        self.val = val\n",
    "        self.next = next\n",
    "class Solution:\n",
    "    def removeElements(self, head: ListNode, val: int) -> ListNode:\n",
    "        if head is None: return head\n",
    "        t=head\n",
    "        \n",
    "        #Don't traverse when u delete , since for [7,7,7,7] if we delete and traverse we reach from 7 at index 0 to 7 at index 2\n",
    "        #and then won't be able to delete 7 of index 2\n",
    "        \n",
    "        while(t and t.next):\n",
    "            if(t.next.val == val):\n",
    "                t.next = t.next.next\n",
    "            else:\n",
    "                t=t.next\n",
    "        \n",
    "        return head.next if head.val == val else head"
   ]
  }
 ],
 "metadata": {
  "kernelspec": {
   "display_name": "Python 3",
   "language": "python",
   "name": "python3"
  },
  "language_info": {
   "codemirror_mode": {
    "name": "ipython",
    "version": 3
   },
   "file_extension": ".py",
   "mimetype": "text/x-python",
   "name": "python",
   "nbconvert_exporter": "python",
   "pygments_lexer": "ipython3",
   "version": "3.8.8"
  }
 },
 "nbformat": 4,
 "nbformat_minor": 5
}
